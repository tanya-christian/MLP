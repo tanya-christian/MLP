{
  "metadata": {
    "kernelspec": {
      "name": "python",
      "display_name": "Python (Pyodide)",
      "language": "python"
    },
    "language_info": {
      "codemirror_mode": {
        "name": "python",
        "version": 3
      },
      "file_extension": ".py",
      "mimetype": "text/x-python",
      "name": "python",
      "nbconvert_exporter": "python",
      "pygments_lexer": "ipython3",
      "version": "3.8"
    }
  },
  "nbformat_minor": 5,
  "nbformat": 4,
  "cells": [
    {
      "id": "8700a916-dae0-411b-a61a-56d9d563150e",
      "cell_type": "code",
      "source": "import numpy as np",
      "metadata": {
        "trusted": true
      },
      "outputs": [],
      "execution_count": 1
    },
    {
      "id": "29b100a2-6b60-4ac3-b219-624b094d5139",
      "cell_type": "code",
      "source": "a = np.array([[1,2,3,4],[5,6,7,8]])\nprint(a)",
      "metadata": {
        "trusted": true
      },
      "outputs": [
        {
          "name": "stdout",
          "text": "[[1 2 3 4]\n [5 6 7 8]]\n",
          "output_type": "stream"
        }
      ],
      "execution_count": 2
    },
    {
      "id": "6cd07b2a-6c88-4046-8d8f-b4766ae759ab",
      "cell_type": "code",
      "source": "# shape : It is used find the dimensional shape of the array\nprint(a.shape)",
      "metadata": {
        "trusted": true
      },
      "outputs": [
        {
          "name": "stdout",
          "text": "(2, 4)\n",
          "output_type": "stream"
        }
      ],
      "execution_count": 3
    },
    {
      "id": "a9cfddcc-8c21-4f3b-8ac5-5b3123b524cf",
      "cell_type": "code",
      "source": "#ndim : returns an integer that tells us how many dimensions the array have.\nprint(\"ndim\",a.ndim)",
      "metadata": {
        "trusted": true
      },
      "outputs": [
        {
          "name": "stdout",
          "text": "ndim 2\n",
          "output_type": "stream"
        }
      ],
      "execution_count": 4
    },
    {
      "id": "a29c9631-8cda-4eae-bace-2f7f666139fc",
      "cell_type": "code",
      "source": "#size : return the size of the array\nprint(\"Size : \",a.size)",
      "metadata": {
        "trusted": true
      },
      "outputs": [
        {
          "name": "stdout",
          "text": "Size :  8\n",
          "output_type": "stream"
        }
      ],
      "execution_count": 5
    },
    {
      "id": "8af63bbb-0a11-4d17-9695-73de4ef63cc5",
      "cell_type": "code",
      "source": "#dtype : return the datatype of the array\nprint(\"datatype : \",a.dtype)",
      "metadata": {
        "trusted": true
      },
      "outputs": [
        {
          "name": "stdout",
          "text": "datatype :  int32\n",
          "output_type": "stream"
        }
      ],
      "execution_count": 6
    },
    {
      "id": "c7626580-0549-4934-aa52-bc72d378a4fe",
      "cell_type": "code",
      "source": "#itemsize : The element size of this data-type object\nprint(a.itemsize)",
      "metadata": {
        "trusted": true
      },
      "outputs": [
        {
          "name": "stdout",
          "text": "4\n",
          "output_type": "stream"
        }
      ],
      "execution_count": 7
    },
    {
      "id": "6679beba-794a-4193-8662-5857a7e3778b",
      "cell_type": "code",
      "source": "#data :\nprint(a.data)",
      "metadata": {
        "trusted": true
      },
      "outputs": [
        {
          "name": "stdout",
          "text": "<memory at 0x35f1ad8>\n",
          "output_type": "stream"
        }
      ],
      "execution_count": 8
    },
    {
      "id": "3b0d055c-d3c6-44dd-8206-f36da5b4b6e3",
      "cell_type": "code",
      "source": "m1 = np.array([[1,2],[3,4]])\nm2 = np.array([[5,6],[7,8]])\nprint(m1)\nprint(m2)",
      "metadata": {
        "trusted": true
      },
      "outputs": [
        {
          "name": "stdout",
          "text": "[[1 2]\n [3 4]]\n[[5 6]\n [7 8]]\n",
          "output_type": "stream"
        }
      ],
      "execution_count": 9
    },
    {
      "id": "346a6ec0-4021-4fbf-a5e0-3a3301d9191e",
      "cell_type": "code",
      "source": "#dot : return the multiplication of the matrix\nmul = np.dot(m1,m2)\nprint(mul)",
      "metadata": {
        "trusted": true
      },
      "outputs": [
        {
          "name": "stdout",
          "text": "[[19 22]\n [43 50]]\n",
          "output_type": "stream"
        }
      ],
      "execution_count": 10
    },
    {
      "id": "bb164194-0327-424a-b45d-dc0179e5d02f",
      "cell_type": "code",
      "source": "#multiply : it only multiply the elements\nmult = np.multiply(m1,m2) #only multiplication\nprint(mult)",
      "metadata": {
        "trusted": true
      },
      "outputs": [
        {
          "name": "stdout",
          "text": "[[ 5 12]\n [21 32]]\n",
          "output_type": "stream"
        }
      ],
      "execution_count": 11
    },
    {
      "id": "42f81154-885c-4ba9-9a0e-66934a5f7cf4",
      "cell_type": "code",
      "source": "#subtract : will subtract the matrix\nsubtrac = np.subtract(m2,m1)\nprint(subtrac)",
      "metadata": {
        "trusted": true
      },
      "outputs": [
        {
          "name": "stdout",
          "text": "[[4 4]\n [4 4]]\n",
          "output_type": "stream"
        }
      ],
      "execution_count": 12
    },
    {
      "id": "88f3d2ee-f635-45f1-9c01-99f7715d3a9e",
      "cell_type": "code",
      "source": "#add : will add the two or more matrix\naddM = np.add(m1,m2)\nprint(addM)",
      "metadata": {
        "trusted": true
      },
      "outputs": [
        {
          "name": "stdout",
          "text": "[[ 6  8]\n [10 12]]\n",
          "output_type": "stream"
        }
      ],
      "execution_count": 13
    },
    {
      "id": "21f066b3-4b89-4071-8f04-1f8d5f34ae7e",
      "cell_type": "code",
      "source": "b = np.array([4,5,56,7,8,9,12,45])\n#starting from the 2nd element to the end\nprint(b[2:])",
      "metadata": {
        "trusted": true
      },
      "outputs": [
        {
          "name": "stdout",
          "text": "[56  7  8  9 12 45]\n",
          "output_type": "stream"
        }
      ],
      "execution_count": 14
    },
    {
      "id": "7c8c866b-8bfa-473c-a44f-c45676298d5e",
      "cell_type": "code",
      "source": "#starting from first element to the 2-1 element\nprint(b[:2])",
      "metadata": {
        "trusted": true
      },
      "outputs": [
        {
          "name": "stdout",
          "text": "[4 5]\n",
          "output_type": "stream"
        }
      ],
      "execution_count": 15
    },
    {
      "id": "b79ab38a-86db-4f51-8c46-e0a3352733b9",
      "cell_type": "code",
      "source": "c = np.array([1,2,3,4,5,6,7,8,9])\n#reshape : shape the array according to our choice\nprint(c.reshape(3,3))",
      "metadata": {
        "trusted": true
      },
      "outputs": [
        {
          "name": "stdout",
          "text": "[[1 2 3]\n [4 5 6]\n [7 8 9]]\n",
          "output_type": "stream"
        }
      ],
      "execution_count": 16
    },
    {
      "id": "6553d7bc-cd22-487b-85ce-3324718a848a",
      "cell_type": "code",
      "source": "#max = maximum element from the array\nprint(c.max())",
      "metadata": {
        "trusted": true
      },
      "outputs": [
        {
          "name": "stdout",
          "text": "9\n",
          "output_type": "stream"
        }
      ],
      "execution_count": 17
    },
    {
      "id": "c44d4135-298f-4463-b3a3-a1eb7a9cd3d4",
      "cell_type": "code",
      "source": "#min : minimum element from the array\nprint(c.min())\n",
      "metadata": {
        "trusted": true
      },
      "outputs": [
        {
          "name": "stdout",
          "text": "1\n",
          "output_type": "stream"
        }
      ],
      "execution_count": 18
    },
    {
      "id": "97012ca1-bafa-45eb-a70f-4105b87067bb",
      "cell_type": "code",
      "source": "#axis=1 means row wise maximum\nre = c.reshape(3,3)\nprint(\"Max in row is : \",re.max(axis=1))",
      "metadata": {
        "trusted": true
      },
      "outputs": [
        {
          "name": "stdout",
          "text": "Max in row is :  [3 6 9]\n",
          "output_type": "stream"
        }
      ],
      "execution_count": 19
    },
    {
      "id": "0bea36eb-539d-4d64-86ef-aa250620b0ac",
      "cell_type": "code",
      "source": "#axis=0 means column wise minimum\nprint(\"Min in row is : \",re.min(axis=0))",
      "metadata": {
        "trusted": true
      },
      "outputs": [
        {
          "name": "stdout",
          "text": "Min in row is :  [1 2 3]\n",
          "output_type": "stream"
        }
      ],
      "execution_count": 20
    },
    {
      "id": "12c2f487-adf7-43bc-812f-bfe68c54b1c4",
      "cell_type": "code",
      "source": "m4 = np.array([4,9,25])\n#sqrt : square root of the elements\nprint(np.sqrt(m4))\n",
      "metadata": {
        "trusted": true
      },
      "outputs": [
        {
          "name": "stdout",
          "text": "[2. 3. 5.]\n",
          "output_type": "stream"
        }
      ],
      "execution_count": 21
    },
    {
      "id": "29d7a5d8-372a-4001-ab32-0c2377147920",
      "cell_type": "code",
      "source": "#std : calculates the standard deviation of given data along a specified axis.\nprint(\"Standard deviation : \",np.std(m4))",
      "metadata": {
        "trusted": true
      },
      "outputs": [
        {
          "name": "stdout",
          "text": "Standard deviation :  8.9566858950296\n",
          "output_type": "stream"
        }
      ],
      "execution_count": 22
    },
    {
      "id": "fc9000e3-17d4-42be-aeb4-655a24942e67",
      "cell_type": "code",
      "source": "#vstack : arrange the array vertically\nprint(np.vstack((m1,m2)))",
      "metadata": {
        "trusted": true
      },
      "outputs": [
        {
          "name": "stdout",
          "text": "[[1 2]\n [3 4]\n [5 6]\n [7 8]]\n",
          "output_type": "stream"
        }
      ],
      "execution_count": 23
    },
    {
      "id": "732c7d9e-1340-4910-b214-adb5b80c6de2",
      "cell_type": "code",
      "source": "#hstack : arrange the array horizontally\nprint(np.hstack((m1,m2)))",
      "metadata": {
        "trusted": true
      },
      "outputs": [
        {
          "name": "stdout",
          "text": "[[1 2 5 6]\n [3 4 7 8]]\n",
          "output_type": "stream"
        }
      ],
      "execution_count": 24
    },
    {
      "id": "884bc35f-ee01-4887-954c-c01c4c08d272",
      "cell_type": "code",
      "source": "#arange : starting to 0 to 20 range with 2 gap\nprint(np.arange(0,20,2))",
      "metadata": {
        "trusted": true
      },
      "outputs": [
        {
          "name": "stdout",
          "text": "[ 0  2  4  6  8 10 12 14 16 18]\n",
          "output_type": "stream"
        }
      ],
      "execution_count": 25
    },
    {
      "id": "6bcfa9cb-5e40-4258-9e9c-a70ac2ad45b6",
      "cell_type": "code",
      "source": "#in float value\nprint(np.arange(0,20,2,float))",
      "metadata": {
        "trusted": true
      },
      "outputs": [
        {
          "name": "stdout",
          "text": "[ 0.  2.  4.  6.  8. 10. 12. 14. 16. 18.]\n",
          "output_type": "stream"
        }
      ],
      "execution_count": 26
    },
    {
      "id": "4147b40c-e3fa-4d24-a729-66fdf1986561",
      "cell_type": "code",
      "source": "#same as arange but default in float\nprint(np.linspace(0,20,5))",
      "metadata": {
        "trusted": true
      },
      "outputs": [
        {
          "name": "stdout",
          "text": "[ 0.  5. 10. 15. 20.]\n",
          "output_type": "stream"
        }
      ],
      "execution_count": 27
    },
    {
      "id": "5cb5c2be-91c4-405d-9db6-b1bf280f89f6",
      "cell_type": "code",
      "source": "a = np.array([1,2,3,4,5,6,7,8])\nhnew = np.hsplit(a,2)\nprint(hnew)",
      "metadata": {
        "trusted": true
      },
      "outputs": [
        {
          "name": "stdout",
          "text": "[array([1, 2, 3, 4]), array([5, 6, 7, 8])]\n",
          "output_type": "stream"
        }
      ],
      "execution_count": 28
    },
    {
      "id": "e48ae118-6998-4f9c-950b-9da5a1e3d5ad",
      "cell_type": "code",
      "source": "arr=np.array([23,34,45,67])\nprint(\"Sqrt: \",np.sqrt(arr))#Returns the square root of each element \nprint(\"Exp: \",np.exp(arr))     #Returns the exponentials of each element\nprint(\"Sin: \",np.sin(arr))     #Returns the sin of each element\nprint(\"Cos: \",np.cos(arr))     #Returns the cosine of each element\nprint(\"Log: \",np.log(arr))     #Returns the logarithm of each element\nprint(\"Sum: \",np.sum(arr))     #Returns the sum total of elements in the array\nprint(\"Std: \",np.std(arr))     #Returns the standard deviation of in the array",
      "metadata": {
        "trusted": true
      },
      "outputs": [
        {
          "name": "stdout",
          "text": "Sqrt:  [4.79583152 5.83095189 6.70820393 8.18535277]\nExp:  [9.74480345e+09 5.83461743e+14 3.49342711e+19 1.25236317e+29]\nSin:  [-0.8462204   0.52908269  0.85090352 -0.85551998]\nCos:  [-0.53283302 -0.84857027  0.52532199 -0.5177698 ]\nLog:  [3.13549422 3.52636052 3.80666249 4.20469262]\nSum:  169\nStd:  16.269219403523945\n",
          "output_type": "stream"
        }
      ],
      "execution_count": 29
    },
    {
      "id": "b1b1752c-5c90-435a-a25b-1da414c3e028",
      "cell_type": "code",
      "source": "for i in np.nditer(arr):\n    print(i)",
      "metadata": {
        "trusted": true
      },
      "outputs": [
        {
          "name": "stdout",
          "text": "23\n34\n45\n67\n",
          "output_type": "stream"
        }
      ],
      "execution_count": 30
    },
    {
      "id": "ad45ea76-761b-4fcf-b69a-2fbd71354e78",
      "cell_type": "code",
      "source": "",
      "metadata": {
        "trusted": true
      },
      "outputs": [],
      "execution_count": null
    }
  ]
}